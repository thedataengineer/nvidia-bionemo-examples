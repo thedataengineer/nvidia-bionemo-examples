{
  "nbformat": 4,
  "nbformat_minor": 0,
  "metadata": {
    "colab": {
      "provenance": [],
      "include_colab_link": true
    },
    "kernelspec": {
      "name": "python3",
      "display_name": "Python 3"
    },
    "language_info": {
      "name": "python"
    },
    "accelerator": "GPU"
  },
  "cells": [
    {
      "cell_type": "markdown",
      "metadata": {
        "id": "view-in-github",
        "colab_type": "text"
      },
      "source": [
        "<a href=\"https://colab.research.google.com/github/thedataengineer/nvidia-bionemo-examples/blob/main/embed_ProtT5_disorder_structure_pred.ipynb\" target=\"_parent\"><img src=\"https://colab.research.google.com/assets/colab-badge.svg\" alt=\"Open In Colab\"/></a>"
      ]
    },
    {
      "cell_type": "markdown",
      "source": [
        "## SETH: Predicting nuances of a residue's disorder from protein embeddings\n",
        "### Instructions\n",
        "In the below block \"Options and input specification\", you need to specify the name of your fasta file containing the protein(s) for which you want a disorder prediction. Do this by replacing \"myproteins.fasta\". Then upload your file, for example by just using drag and drop after clicking on the folder icon in the sidebar.\n",
        "\n",
        "Then click  `Runtime` -> `Run all`. The script will start running. Everything is finished when the last block has a green tickmark next to it.\n",
        "\n",
        "After the run is finished, you find your disorder predictions at protT5/output/disorder_preds.fasta (find the folder protT5 by again clicking on the folder icon in the sidebar) and can download them by hovering over the file, clicking on the three points and selecting `Download`. The predictions will be given in CheZOD scores, which are a continuous measure of disorder, where values below 8 signify disorder and values above 8 signify order (see https://github.com/DagmarIlz/SETH).\n",
        "\n",
        "&nbsp;\n",
        "\n",
        "Optional:\n",
        "\n",
        "You can look at the disorder over your protein sequence with the plot template available.\n",
        "\n",
        "If you only input one protein: the protein will automatically be plotted.\n",
        "\n",
        "If you input multiple proteins: the alphabetically first protein will automatically be plotted. You can adjust which protein is plotted by inserting the identifier of the protein used in disorder_preds.fasta in the third line of the block \"Plot disorder over your protein sequence\". The line should then read `MyProtein_to_plot=\"<identifier>\"`. Then you need to  click on the round play button next to this block and the plot for your desired protein will be displayed."
      ],
      "metadata": {
        "id": "QVlgZRDCuQZ1"
      }
    },
    {
      "cell_type": "code",
      "execution_count": null,
      "metadata": {
        "id": "QMoeBQnUCK_E"
      },
      "outputs": [],
      "source": [
        "#@title Install requirements. { display-mode: \"form\" }\n",
        "# Install requirements\n",
        "!pip install torch transformers sentencepiece h5py"
      ]
    },
    {
      "cell_type": "code",
      "source": [
        "#@title Set up working directories and download files/checkpoints. { display-mode: \"form\" }\n",
        "# Create directory for storing model weights (2.3GB) and example sequences.\n",
        "# Here we use the encoder-part of ProtT5-XL-U50 in half-precision (fp16) as\n",
        "# it performed best in our benchmarks (also outperforming ProtBERT-BFD).\n",
        "# Also download secondary structure prediction checkpoint and disorder prediction checkpoint to show annotation extraction from embeddings\n",
        "!mkdir protT5 # root directory for storing checkpoints, results etc\n",
        "!mkdir protT5/protT5_checkpoint # directory holding the ProtT5 checkpoint\n",
        "!mkdir protT5/sec_struct_checkpoint # directory storing the supervised classifier's checkpoint\n",
        "!mkdir protT5/disorder_checkpoint # directory storing the supervised disorder predictor's checkpoint\n",
        "!mkdir protT5/output # directory for storing your embeddings & predictions\n",
        "!wget -nc -P protT5/ https://rostlab.org/~deepppi/example_seqs.fasta\n",
        "!wget -nc -P protT5/protT5_checkpoint https://rostlab.org/~deepppi/protT5_xl_u50_encOnly_fp16_checkpoint/pytorch_model.bin\n",
        "!wget -nc -P protT5/protT5_checkpoint https://rostlab.org/~deepppi/protT5_xl_u50_encOnly_fp16_checkpoint/config.json\n",
        "!wget -nc -P protT5/disorder_checkpoint https://rostlab.org/~deepppi/SETH_CNN.pt\n",
        "# Huge kudos to the bio_embeddings team here! We will integrate the new encoder, half-prec ProtT5 checkpoint soon\n",
        "!wget -nc -P protT5/sec_struct_checkpoint http://data.bioembeddings.com/public/embeddings/feature_models/t5/secstruct_checkpoint.pt"
      ],
      "metadata": {
        "id": "tRe7CfuqFFmY"
      },
      "execution_count": null,
      "outputs": []
    },
    {
      "cell_type": "code",
      "source": [
        "#@title Options and input specification.\n",
        "# In the following you can define your desired output. Current options:\n",
        "# per_residue embeddings\n",
        "# per_protein embeddings\n",
        "# secondary structure predictions\n",
        "# disorder predictions\n",
        "\n",
        "# Replace this file with your own (multi-)FASTA\n",
        "# Headers are expected to start with \">\";\n",
        "# seq_path = \"./protT5/example_seqs.fasta\" #this enables use of an example file\n",
        "seq_path=\"./myproteins.fasta\"\n",
        "\n",
        "# whether to retrieve embeddings for each residue in a protein\n",
        "# --> Lx1024 matrix per protein with L being the protein's length\n",
        "# as a rule of thumb: 1k proteins require around 1GB RAM/disk\n",
        "per_residue = True\n",
        "per_residue_path = \"./protT5/output/per_residue_embeddings.h5\" # where to store the embeddings\n",
        "\n",
        "# whether to retrieve per-protein embeddings\n",
        "# --> only one 1024-d vector per protein, irrespective of its length\n",
        "per_protein = False\n",
        "per_protein_path = \"./protT5/output/per_protein_embeddings.h5\" # where to store the embeddings\n",
        "\n",
        "# whether to retrieve secondary structure predictions\n",
        "sec_struct = False\n",
        "sec_struct_path = \"./protT5/output/ss3_preds.fasta\" # file for storing predictions\n",
        "\n",
        "# whether to retrieve disorder predictions\n",
        "disorder = True\n",
        "disorder_path = \"./protT5/output/disorder_preds.fasta\" # file for storing predictions\n",
        "\n",
        "\n",
        "# make sure that either per-residue or per-protein embeddings are stored\n",
        "assert per_protein is True or per_residue is True or sec_struct is True or disorder is True, print(\n",
        "    \"Minimally, you need to active per_residue, per_protein, sec_struct. or disorder (or any combination)\")\n"
      ],
      "metadata": {
        "id": "ZQotVM94S7NR"
      },
      "execution_count": null,
      "outputs": []
    },
    {
      "cell_type": "code",
      "source": [
        "#@title Import dependencies and check whether GPU is available. { display-mode: \"form\" }\n",
        "from transformers import T5EncoderModel, T5Tokenizer\n",
        "import torch\n",
        "import h5py\n",
        "import time\n",
        "device = torch.device('cuda:0' if torch.cuda.is_available() else 'cpu')\n",
        "print(\"Using {}\".format(device))\n",
        "print(\"Used GPU: \", end='')\n",
        "!nvidia-smi -L\n",
        "print(\"Used CPU \", end='')\n",
        "!lscpu |grep 'Model name'"
      ],
      "metadata": {
        "colab": {
          "base_uri": "https://localhost:8080/"
        },
        "id": "ET2v51slC5ui",
        "outputId": "4157f993-9c35-4171-c1f8-a7236978c39d"
      },
      "execution_count": null,
      "outputs": [
        {
          "output_type": "stream",
          "name": "stdout",
          "text": [
            "Using cuda:0\n",
            "Used GPU: GPU 0: Tesla T4 (UUID: GPU-61d2b478-3dc5-cb8f-69a2-582f749de6e2)\n",
            "Used CPU Model name:          Intel(R) Xeon(R) CPU @ 2.20GHz\n"
          ]
        }
      ]
    },
    {
      "cell_type": "code",
      "source": [
        "#@title Network architecture for secondary structure prediction. { display-mode: \"form\" }\n",
        "# Convolutional neural network (two convolutional layers) to predict secondary structure\n",
        "class ConvNet( torch.nn.Module ):\n",
        "    def __init__( self ):\n",
        "        super(ConvNet, self).__init__()\n",
        "        # This is only called \"elmo_feature_extractor\" for historic reason\n",
        "        # CNN weights are trained on ProtT5 embeddings\n",
        "        self.elmo_feature_extractor = torch.nn.Sequential(\n",
        "                        torch.nn.Conv2d( 1024, 32, kernel_size=(7,1), padding=(3,0) ), # 7x32\n",
        "                        torch.nn.ReLU(),\n",
        "                        torch.nn.Dropout( 0.25 ),\n",
        "                        )\n",
        "        n_final_in = 32\n",
        "        self.dssp3_classifier = torch.nn.Sequential(\n",
        "                        torch.nn.Conv2d( n_final_in, 3, kernel_size=(7,1), padding=(3,0)) # 7\n",
        "                        )\n",
        "\n",
        "        self.dssp8_classifier = torch.nn.Sequential(\n",
        "                        torch.nn.Conv2d( n_final_in, 8, kernel_size=(7,1), padding=(3,0))\n",
        "                        )\n",
        "        self.diso_classifier = torch.nn.Sequential(\n",
        "                        torch.nn.Conv2d( n_final_in, 2, kernel_size=(7,1), padding=(3,0))\n",
        "                        )\n",
        "\n",
        "\n",
        "    def forward( self, x):\n",
        "        # IN: X = (B x L x F); OUT: (B x F x L, 1)\n",
        "        x = x.permute(0,2,1).unsqueeze(dim=-1)\n",
        "        x         = self.elmo_feature_extractor(x) # OUT: (B x 32 x L x 1)\n",
        "        d3_Yhat   = self.dssp3_classifier( x ).squeeze(dim=-1).permute(0,2,1) # OUT: (B x L x 3)\n",
        "        d8_Yhat   = self.dssp8_classifier( x ).squeeze(dim=-1).permute(0,2,1) # OUT: (B x L x 8)\n",
        "        diso_Yhat = self.diso_classifier(  x ).squeeze(dim=-1).permute(0,2,1) # OUT: (B x L x 2)\n",
        "        return d3_Yhat, d8_Yhat, diso_Yhat"
      ],
      "metadata": {
        "id": "c5XqIyeNStZP"
      },
      "execution_count": null,
      "outputs": []
    },
    {
      "cell_type": "code",
      "source": [
        "#@title Network architecture for disorder prediction. { display-mode: \"form\" }\n",
        "# Convolutional neural network to predict disorder\n",
        "class CNN( torch.nn.Module ):\n",
        "    def __init__( self, n_classes=1, n_features=1024, pretrained_model=None ):\n",
        "        super(CNN, self).__init__()\n",
        "        # CNN weights are trained on ProtT5 embeddings\n",
        "        self.n_classes = n_classes\n",
        "        bottleneck_dim = 28\n",
        "        self.classifier = torch.nn.Sequential(\n",
        "                        #summarize information from 5 neighbouring amino acids (AAs)\n",
        "                        #padding: dimension corresponding to AA number does not change\n",
        "                        torch.nn.Conv2d( n_features, bottleneck_dim, kernel_size=(5,1), padding=(2,0) ),\n",
        "                        torch.nn.Tanh(),\n",
        "                        torch.nn.Conv2d( bottleneck_dim, self.n_classes, kernel_size=(5,1), padding=(2,0))\n",
        "                        )\n",
        "\n",
        "    def forward( self, x):\n",
        "        '''\n",
        "            L = protein length\n",
        "            B = batch-size\n",
        "            F = number of features (1024 for embeddings)\n",
        "            N = number of output nodes (1 for disorder, since predict one continuous number)\n",
        "        '''\n",
        "        # IN: X = (B x L x F); OUT: (B x F x L, 1)\n",
        "        x = x.permute(0,2,1).unsqueeze(dim=-1)\n",
        "        Yhat = self.classifier(x) # OUT: Yhat_consurf = (B x N x L x 1)\n",
        "        # IN: (B x N x L x 1); OUT: ( B x L x N )\n",
        "        Yhat = Yhat.squeeze(dim=-1)\n",
        "        return Yhat"
      ],
      "metadata": {
        "id": "NGQ9KhJQyxMt"
      },
      "execution_count": null,
      "outputs": []
    },
    {
      "cell_type": "code",
      "source": [
        "#@title Load the checkpoint for secondary structure or disorder prediction. { display-mode: \"form\" }\n",
        "def load_model(model_want):\n",
        "  if model_want==\"disorder\":\n",
        "    model = CNN()\n",
        "    checkpoint_dir=\"./protT5/disorder_checkpoint/SETH_CNN.pt\"\n",
        "  if model_want==\"structure\":\n",
        "    checkpoint_dir=\"./protT5/sec_struct_checkpoint/secstruct_checkpoint.pt\"\n",
        "    model = ConvNet()\n",
        "  state = torch.load( checkpoint_dir )\n",
        "  model.load_state_dict(state['state_dict'])\n",
        "  model = model.eval()\n",
        "  model = model.half()\n",
        "  model = model.to(device)\n",
        "  if model_want==\"disorder\":\n",
        "    print('Loaded disorder pred. model from epoch: {:.1f}'.format(state['epoch']))\n",
        "  if model_want==\"structure\":\n",
        "    print('Loaded sec. struct. model from epoch: {:.1f}'.format(state['epoch']))\n",
        "\n",
        "  return model"
      ],
      "metadata": {
        "id": "YLYFPAT_VLAK"
      },
      "execution_count": null,
      "outputs": []
    },
    {
      "cell_type": "code",
      "source": [
        "#@title Load ProtT5 in half-precision. { display-mode: \"form\" }\n",
        "# Load ProtT5 in half-precision (more specifically: the encoder-part of ProtT5-XL-U50)\n",
        "def get_T5_model():\n",
        "    model = T5EncoderModel.from_pretrained(\"./protT5/protT5_checkpoint/\", torch_dtype=torch.float16)\n",
        "    model = model.to(device) # move model to GPU\n",
        "    model = model.eval() # set model to evaluation model\n",
        "    tokenizer = T5Tokenizer.from_pretrained(\"Rostlab/prot_t5_xl_uniref50\", do_lower_case=False )\n",
        "\n",
        "    return model, tokenizer"
      ],
      "metadata": {
        "id": "tLDz6jv1C0UI"
      },
      "execution_count": null,
      "outputs": []
    },
    {
      "cell_type": "code",
      "source": [
        "#@title Read in file in fasta format. { display-mode: \"form\" }\n",
        "def read_fasta( fasta_path, split_char=\"!\", id_field=0):\n",
        "    '''\n",
        "        Reads in fasta file containing multiple sequences.\n",
        "        Split_char and id_field allow to control identifier extraction from header.\n",
        "        E.g.: set split_char=\"|\" and id_field=1 for SwissProt/UniProt Headers.\n",
        "        Returns dictionary holding multiple sequences or only single\n",
        "        sequence, depending on input file.\n",
        "    '''\n",
        "\n",
        "    seqs = dict()\n",
        "    with open( fasta_path, 'r' ) as fasta_f:\n",
        "        for line in fasta_f:\n",
        "            # get uniprot ID from header and create new entry\n",
        "            if line.startswith('>'):\n",
        "                uniprot_id = line.replace('>', '').strip().split(split_char)[id_field]\n",
        "                # replace tokens that are mis-interpreted when loading h5\n",
        "                uniprot_id = uniprot_id.replace(\"/\",\"_\").replace(\".\",\"_\")\n",
        "                seqs[ uniprot_id ] = ''\n",
        "            else:\n",
        "                # repl. all whie-space chars and join seqs spanning multiple lines, drop gaps and cast to upper-case\n",
        "                seq= ''.join( line.split() ).upper().replace(\"-\",\"\")\n",
        "                # repl. all non-standard AAs and map them to unknown/X\n",
        "                seq = seq.replace('U','X').replace('Z','X').replace('O','X')\n",
        "                seqs[ uniprot_id ] += seq\n",
        "    example_id=next(iter(seqs))\n",
        "    print(\"Read {} sequences.\".format(len(seqs)))\n",
        "    print(\"Example:\\n{}\\n{}\".format(example_id,seqs[example_id]))\n",
        "\n",
        "    return seqs"
      ],
      "metadata": {
        "id": "6OC1toF1EM9n"
      },
      "execution_count": null,
      "outputs": []
    },
    {
      "cell_type": "code",
      "source": [
        "#@title Generate embeddings and predictions. { display-mode: \"form\" }\n",
        "# Generate embeddings via batch-processing\n",
        "# per_residue indicates that embeddings for each residue in a protein should be returned.\n",
        "# per_protein indicates that embeddings for a whole protein should be returned (average-pooling)\n",
        "# max_residues gives the upper limit of residues within one batch\n",
        "# max_seq_len gives the upper sequences length for applying batch-processing\n",
        "# max_batch gives the upper number of sequences per batch\n",
        "def get_embeddings( model, tokenizer, seqs, per_residue, per_protein, sec_struct, disorder,\n",
        "                   max_residues=4000, max_seq_len=1000, max_batch=100 ):\n",
        "\n",
        "    if sec_struct:\n",
        "      sec_struct_model = load_model(\"structure\")\n",
        "    if disorder:\n",
        "      disorder_model= load_model(\"disorder\")\n",
        "\n",
        "    results = {\"residue_embs\" : dict(),\n",
        "               \"protein_embs\" : dict(),\n",
        "               \"sec_structs\" : dict(),\n",
        "               \"disorder\" : dict()\n",
        "               }\n",
        "\n",
        "    num_residue_embs=0\n",
        "\n",
        "\n",
        "    # sort sequences according to length (reduces unnecessary padding --> speeds up embedding)\n",
        "    seq_dict   = sorted( seqs.items(), key=lambda kv: len( seqs[kv[0]] ), reverse=True )\n",
        "    start = time.time()\n",
        "    batch = list()\n",
        "    for seq_idx, (pdb_id, seq) in enumerate(seq_dict,1):\n",
        "        seq = seq\n",
        "        seq_len = len(seq)\n",
        "        seq = ' '.join(list(seq))\n",
        "        batch.append((pdb_id,seq,seq_len))\n",
        "\n",
        "        # count residues in current batch and add the last sequence length to\n",
        "        # avoid that batches with (n_res_batch > max_residues) get processed\n",
        "        n_res_batch = sum([ s_len for  _, _, s_len in batch ]) + seq_len\n",
        "        if len(batch) >= max_batch or n_res_batch>=max_residues or seq_idx==len(seq_dict) or seq_len>max_seq_len:\n",
        "            pdb_ids, seqs, seq_lens = zip(*batch)\n",
        "            batch = list()\n",
        "\n",
        "            # add_special_tokens adds extra token at the end of each sequence\n",
        "            token_encoding = tokenizer.batch_encode_plus(seqs, add_special_tokens=True, padding=\"longest\")\n",
        "            input_ids      = torch.tensor(token_encoding['input_ids']).to(device)\n",
        "            attention_mask = torch.tensor(token_encoding['attention_mask']).to(device)\n",
        "\n",
        "            try:\n",
        "                with torch.no_grad():\n",
        "                    # returns: ( batch-size x max_seq_len_in_minibatch x embedding_dim )\n",
        "                    embedding_repr = model(input_ids, attention_mask=attention_mask)\n",
        "            except RuntimeError:\n",
        "                print(\"RuntimeError during embedding for {} (L={})\".format(pdb_id, seq_len))\n",
        "                continue\n",
        "\n",
        "            if sec_struct: # in case you want to predict secondary structure from embeddings\n",
        "              d3_Yhat, d8_Yhat, diso_Yhat = sec_struct_model(embedding_repr.last_hidden_state)\n",
        "\n",
        "\n",
        "            for batch_idx, identifier in enumerate(pdb_ids): # for each protein in the current mini-batch\n",
        "                s_len = seq_lens[batch_idx]\n",
        "                # slice off padding --> batch-size x seq_len x embedding_dim\n",
        "                emb = embedding_repr.last_hidden_state[batch_idx,:s_len]\n",
        "                if sec_struct: # get classification results\n",
        "                   results[\"sec_structs\"][identifier] = torch.max( d3_Yhat[batch_idx,:s_len], dim=1 )[1].detach().cpu().numpy().squeeze()\n",
        "                if disorder: #get disorder prediction if enabeled\n",
        "                    d_Yhat=disorder_model(emb.detach().unsqueeze(dim=0))\n",
        "                    results[\"disorder\"][identifier]=d_Yhat.detach().cpu().numpy().squeeze()\n",
        "                if per_residue: # store per-residue embeddings (Lx1024)\n",
        "                    results[\"residue_embs\"][ identifier ] = emb.detach().cpu().numpy().squeeze()\n",
        "                    num_residue_embs=num_residue_embs+len(results[\"residue_embs\"][ identifier ])\n",
        "                if per_protein: # apply average-pooling to derive per-protein embeddings (1024-d)\n",
        "                    protein_emb = emb.mean(dim=0)\n",
        "                    results[\"protein_embs\"][identifier] = protein_emb.detach().cpu().numpy().squeeze()\n",
        "\n",
        "\n",
        "    passed_time=time.time()-start\n",
        "    avg_time = passed_time/len(results[\"residue_embs\"]) if per_residue else passed_time/len(results[\"protein_embs\"])\n",
        "    print('\\n############# EMBEDDING STATS #############')\n",
        "    print('Total number of per-residue embeddings: {}'.format(num_residue_embs))\n",
        "    print('Total number of per-protein embeddings: {}'.format(len(results[\"protein_embs\"])))\n",
        "    print(\"Time for generating embeddings and predictions: {:.1f}[m] ({:.3f}[s/protein])\".format(\n",
        "        passed_time/60, avg_time ))\n",
        "    print('\\n############# END #############')\n",
        "    return results"
      ],
      "metadata": {
        "id": "nK4hwGggR_Rs"
      },
      "execution_count": null,
      "outputs": []
    },
    {
      "cell_type": "code",
      "source": [
        "#@title Write embeddings to disk. { display-mode: \"form\" }\n",
        "def save_embeddings(emb_dict,out_path):\n",
        "    with h5py.File(str(out_path), \"w\") as hf:\n",
        "        for sequence_id, embedding in emb_dict.items():\n",
        "            # noinspection PyUnboundLocalVariable\n",
        "            hf.create_dataset(sequence_id, data=embedding)\n",
        "    return None"
      ],
      "metadata": {
        "id": "UB6yhwunTymY"
      },
      "execution_count": null,
      "outputs": []
    },
    {
      "cell_type": "code",
      "source": [
        "#@title Write predictions to disk. { display-mode: \"form\" }\n",
        "def write_prediction_fasta(predictions, out_path, disor_or_struct):\n",
        "  class_mapping = {0:\"H\",1:\"E\",2:\"L\"}\n",
        "  if disor_or_struct==\"disor\":\n",
        "    with open(out_path, 'w+') as out_f:\n",
        "        out_f.write( '\\n'.join(\n",
        "            [ \">{}\\n{}\".format(\n",
        "                seq_id, ', '.join( [str(j) for j in yhat] ))\n",
        "            for seq_id, yhat in predictions.items()\n",
        "            ]\n",
        "              ) )\n",
        "  if disor_or_struct==\"struct\":\n",
        "    with open(out_path, 'w+') as out_f:\n",
        "        out_f.write( '\\n'.join(\n",
        "            [ \">{}\\n{}\".format(\n",
        "                seq_id, ''.join( [class_mapping[j] for j in yhat] ))\n",
        "            for seq_id, yhat in predictions.items()\n",
        "            ]\n",
        "              ) )\n",
        "  return None"
      ],
      "metadata": {
        "id": "juXcP5Tpbeqv"
      },
      "execution_count": null,
      "outputs": []
    },
    {
      "cell_type": "code",
      "source": [
        "#@title Execution of the pipeline. { display-mode: \"form\" }\n",
        "# Load the encoder part of ProtT5-XL-U50 in half-precision (recommended)\n",
        "model, tokenizer = get_T5_model()\n",
        "# Load example fasta.\n",
        "seqs = read_fasta( seq_path )\n",
        "# Compute embeddings and/or secondary structure predictions and/or disorder prediction\n",
        "results = get_embeddings( model, tokenizer, seqs,\n",
        "                         per_residue, per_protein, sec_struct, disorder)\n",
        "\n",
        "# Store per-residue embeddings\n",
        "if per_residue:\n",
        "  save_embeddings(results[\"residue_embs\"], per_residue_path)\n",
        "if per_protein:\n",
        "  save_embeddings(results[\"protein_embs\"], per_protein_path)\n",
        "if sec_struct:\n",
        "  write_prediction_fasta(results[\"sec_structs\"], sec_struct_path, disor_or_struct=\"struct\")\n",
        "if disorder:\n",
        "  write_prediction_fasta(results[\"disorder\"], disorder_path, disor_or_struct=\"disor\")"
      ],
      "metadata": {
        "id": "4gjFyiyKEXoZ"
      },
      "execution_count": null,
      "outputs": []
    },
    {
      "cell_type": "code",
      "source": [
        "#@title Preparation for plotting. { display-mode: \"form\" }\n",
        "if disorder==True:\n",
        "  import matplotlib.pyplot as plt\n",
        "  diso_pred = dict()\n",
        "  with open(\"./protT5/output/disorder_preds.fasta\", 'r') as fasta_f:\n",
        "      for line in fasta_f:\n",
        "          line=line.strip()\n",
        "          # get identifier and create new entry\n",
        "          if line.startswith('>'):\n",
        "              identifier=line.replace(\">\",\"\").replace(\"/\",\"_\").replace(\".\",\"_\").split(\"!\")[0]\n",
        "              diso_pred[identifier] = ''\n",
        "          else:\n",
        "              diso_pred[identifier] = [float(i) for i in line.split(',') if i.strip()]"
      ],
      "metadata": {
        "id": "Gl5LwHt49vMk"
      },
      "execution_count": null,
      "outputs": []
    },
    {
      "cell_type": "code",
      "source": [
        "#@title Plot disorder over your protein sequence.\n",
        "if disorder==True:\n",
        "  MyProtein_to_plot=\"\" #here you can change which protein is plotted\n",
        "  if MyProtein_to_plot==\"\":\n",
        "    MyProtein_to_plot=list(diso_pred.keys())[0]\n",
        "  plt.plot(range(0,len(diso_pred[MyProtein_to_plot])),diso_pred[MyProtein_to_plot])\n",
        "  plt.xlabel('Residue number') # naming the x axis\n",
        "  plt.ylabel('CheZOD score') # naming the y axis\n",
        "  plt.title(\"Protein \" + MyProtein_to_plot)\n",
        "  plt.axhline(y=8, color='k', linestyle='-')"
      ],
      "metadata": {
        "colab": {
          "base_uri": "https://localhost:8080/",
          "height": 295
        },
        "id": "MNhLrxCjBNd1",
        "outputId": "9e5cbee3-05e7-4b90-93aa-9da3f4606cdf"
      },
      "execution_count": null,
      "outputs": [
        {
          "output_type": "display_data",
          "data": {
            "text/plain": [
              "<Figure size 432x288 with 1 Axes>"
            ],
            "image/png": "[encoded data removed]"
          },
          "metadata": {
            "needs_background": "light"
          }
        }
      ]
    }
  ]
}